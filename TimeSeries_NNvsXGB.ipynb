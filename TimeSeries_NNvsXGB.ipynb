{
 "cells": [
  {
   "cell_type": "code",
   "execution_count": 390,
   "id": "32ab3725-9a51-47c3-9a2b-4aeae4e9cc97",
   "metadata": {},
   "outputs": [],
   "source": [
    "import pandas as pd\n",
    "import numpy as np\n",
    "import seaborn as sns\n",
    "import missingno as msno\n",
    "from sklearn import metrics\n",
    "from xgboost import XGBClassifier, XGBRegressor\n",
    "from sklearn.impute import SimpleImputer\n",
    "from sklearn.impute import KNNImputer\n",
    "from sklearn.preprocessing import LabelEncoder, StandardScaler, MinMaxScaler\n",
    "from sklearn.tree import DecisionTreeClassifier\n",
    "from sklearn.model_selection import train_test_split\n",
    "from sklearn.metrics import classification_report, confusion_matrix\n",
    "from keras.api.models import Sequential\n",
    "from keras.api.layers import Input, LSTM, Dense"
   ]
  },
  {
   "cell_type": "code",
   "execution_count": 391,
   "id": "77ac008b-2a4d-45d8-8aef-87ea0b970f53",
   "metadata": {},
   "outputs": [],
   "source": [
    "df1 = pd.read_csv(\"Downloads/power_consumption_g3.csv\")\n",
    "df2 = pd.read_csv(\"Downloads/power_consumption_g3_feat.csv\")"
   ]
  },
  {
   "cell_type": "code",
   "execution_count": 392,
   "id": "2fabbb31-7ac9-4d5c-b29c-7ac3428c6b30",
   "metadata": {},
   "outputs": [],
   "source": [
    "merged = pd.merge(df1,df2,on=\"Date\")"
   ]
  },
  {
   "cell_type": "code",
   "execution_count": 393,
   "id": "ca5dc772-c331-4243-8ca5-4b314dd3dc74",
   "metadata": {},
   "outputs": [
    {
     "data": {
      "text/html": [
       "<div>\n",
       "<style scoped>\n",
       "    .dataframe tbody tr th:only-of-type {\n",
       "        vertical-align: middle;\n",
       "    }\n",
       "\n",
       "    .dataframe tbody tr th {\n",
       "        vertical-align: top;\n",
       "    }\n",
       "\n",
       "    .dataframe thead th {\n",
       "        text-align: right;\n",
       "    }\n",
       "</style>\n",
       "<table border=\"1\" class=\"dataframe\">\n",
       "  <thead>\n",
       "    <tr style=\"text-align: right;\">\n",
       "      <th></th>\n",
       "      <th>Date</th>\n",
       "      <th>SolarPower</th>\n",
       "      <th>Temperature</th>\n",
       "      <th>Humidity</th>\n",
       "      <th>WindSpeed</th>\n",
       "      <th>GeneralDiffuseFlows</th>\n",
       "      <th>DiffuseFlows</th>\n",
       "    </tr>\n",
       "  </thead>\n",
       "  <tbody>\n",
       "    <tr>\n",
       "      <th>16810</th>\n",
       "      <td>2017-02-27 22:50:00</td>\n",
       "      <td>35774.23729</td>\n",
       "      <td>13.81</td>\n",
       "      <td>67.39</td>\n",
       "      <td>0.085</td>\n",
       "      <td>0.048</td>\n",
       "      <td>0.096</td>\n",
       "    </tr>\n",
       "    <tr>\n",
       "      <th>29578</th>\n",
       "      <td>2017-07-17 01:30:00</td>\n",
       "      <td>31581.12957</td>\n",
       "      <td>25.29</td>\n",
       "      <td>85.50</td>\n",
       "      <td>4.924</td>\n",
       "      <td>0.069</td>\n",
       "      <td>0.137</td>\n",
       "    </tr>\n",
       "    <tr>\n",
       "      <th>2567</th>\n",
       "      <td>2017-03-11 03:20:00</td>\n",
       "      <td>23101.27660</td>\n",
       "      <td>12.51</td>\n",
       "      <td>70.90</td>\n",
       "      <td>4.919</td>\n",
       "      <td>0.015</td>\n",
       "      <td>0.089</td>\n",
       "    </tr>\n",
       "    <tr>\n",
       "      <th>43416</th>\n",
       "      <td>2017-10-04 01:20:00</td>\n",
       "      <td>27671.94748</td>\n",
       "      <td>25.02</td>\n",
       "      <td>39.05</td>\n",
       "      <td>4.922</td>\n",
       "      <td>0.095</td>\n",
       "      <td>0.059</td>\n",
       "    </tr>\n",
       "    <tr>\n",
       "      <th>1219</th>\n",
       "      <td>2017-07-16 04:10:00</td>\n",
       "      <td>30088.50498</td>\n",
       "      <td>25.51</td>\n",
       "      <td>87.00</td>\n",
       "      <td>4.917</td>\n",
       "      <td>0.040</td>\n",
       "      <td>0.159</td>\n",
       "    </tr>\n",
       "  </tbody>\n",
       "</table>\n",
       "</div>"
      ],
      "text/plain": [
       "                      Date   SolarPower  Temperature  Humidity  WindSpeed  \\\n",
       "16810  2017-02-27 22:50:00  35774.23729        13.81     67.39      0.085   \n",
       "29578  2017-07-17 01:30:00  31581.12957        25.29     85.50      4.924   \n",
       "2567   2017-03-11 03:20:00  23101.27660        12.51     70.90      4.919   \n",
       "43416  2017-10-04 01:20:00  27671.94748        25.02     39.05      4.922   \n",
       "1219   2017-07-16 04:10:00  30088.50498        25.51     87.00      4.917   \n",
       "\n",
       "       GeneralDiffuseFlows  DiffuseFlows  \n",
       "16810                0.048         0.096  \n",
       "29578                0.069         0.137  \n",
       "2567                 0.015         0.089  \n",
       "43416                0.095         0.059  \n",
       "1219                 0.040         0.159  "
      ]
     },
     "execution_count": 393,
     "metadata": {},
     "output_type": "execute_result"
    }
   ],
   "source": [
    "merged.sample(5)"
   ]
  },
  {
   "cell_type": "code",
   "execution_count": 394,
   "id": "d39da94e-d23d-4ae6-ba12-4b5649e3225a",
   "metadata": {},
   "outputs": [],
   "source": [
    "merged['Date'] = pd.to_datetime(merged['Date'])\n",
    "merged.set_index(keys=['Date'], inplace=True)\n",
    "merged.sort_index(inplace=True)"
   ]
  },
  {
   "cell_type": "code",
   "execution_count": 395,
   "id": "8b2121f7-6f45-441d-a5cf-43928ef07a23",
   "metadata": {},
   "outputs": [
    {
     "data": {
      "text/plain": [
       "SolarPower               0\n",
       "Temperature            559\n",
       "Humidity               499\n",
       "WindSpeed              529\n",
       "GeneralDiffuseFlows    524\n",
       "DiffuseFlows           505\n",
       "dtype: int64"
      ]
     },
     "execution_count": 395,
     "metadata": {},
     "output_type": "execute_result"
    }
   ],
   "source": [
    "merged.isnull().sum()"
   ]
  },
  {
   "cell_type": "code",
   "execution_count": 396,
   "id": "4a37923b-edfb-4f8e-b71b-81024f14610d",
   "metadata": {},
   "outputs": [],
   "source": [
    "features=[\"Temperature\", \"Humidity\", \"WindSpeed\", \"GeneralDiffuseFlows\", \"DiffuseFlows\"]\n",
    "target = 'SolarPower'"
   ]
  },
  {
   "cell_type": "code",
   "execution_count": 397,
   "id": "b9ada287-f782-4312-944a-870e93dace41",
   "metadata": {},
   "outputs": [],
   "source": [
    "for feature in features:\n",
    "    merged[feature] = merged[feature].interpolate(method='linear')"
   ]
  },
  {
   "cell_type": "code",
   "execution_count": 398,
   "id": "02ce386a-d7c4-40eb-b593-01d73e3012e5",
   "metadata": {},
   "outputs": [],
   "source": [
    "#se potpolnuvaat null vred so linearna interpolacija, linearni vrednosti"
   ]
  },
  {
   "cell_type": "code",
   "execution_count": 399,
   "id": "3c1121de-de63-40bd-b502-cd330e11e1bf",
   "metadata": {},
   "outputs": [],
   "source": [
    "merged = merged.groupby(pd.Grouper(freq=\"2h\")).mean()"
   ]
  },
  {
   "cell_type": "code",
   "execution_count": 400,
   "id": "e01b15ad-b58d-482f-a428-ff11189f5093",
   "metadata": {},
   "outputs": [
    {
     "data": {
      "text/plain": [
       "<Axes: xlabel='Date', ylabel='Temperature'>"
      ]
     },
     "execution_count": 400,
     "metadata": {},
     "output_type": "execute_result"
    },
    {
     "data": {
      "image/png": "[encoded data removed]",
      "text/plain": [
       "<Figure size 640x480 with 1 Axes>"
      ]
     },
     "metadata": {},
     "output_type": "display_data"
    }
   ],
   "source": [
    "sns.lineplot(merged['Temperature'])"
   ]
  },
  {
   "cell_type": "code",
   "execution_count": 402,
   "id": "f4673a90-b611-4c0d-9e54-9511d1edc0bc",
   "metadata": {},
   "outputs": [
    {
     "data": {
      "text/plain": [
       "[4, 3, 2, 1]"
      ]
     },
     "execution_count": 402,
     "metadata": {},
     "output_type": "execute_result"
    }
   ],
   "source": [
    "lags = range(4, 0, -1)\n",
    "list(lags)"
   ]
  },
  {
   "cell_type": "code",
   "execution_count": 403,
   "id": "cc4ce920-9286-420c-8b52-a52e706103fc",
   "metadata": {},
   "outputs": [
    {
     "data": {
      "text/html": [
       "<div>\n",
       "<style scoped>\n",
       "    .dataframe tbody tr th:only-of-type {\n",
       "        vertical-align: middle;\n",
       "    }\n",
       "\n",
       "    .dataframe tbody tr th {\n",
       "        vertical-align: top;\n",
       "    }\n",
       "\n",
       "    .dataframe thead th {\n",
       "        text-align: right;\n",
       "    }\n",
       "</style>\n",
       "<table border=\"1\" class=\"dataframe\">\n",
       "  <thead>\n",
       "    <tr style=\"text-align: right;\">\n",
       "      <th></th>\n",
       "      <th>SolarPower</th>\n",
       "      <th>Temperature</th>\n",
       "      <th>Humidity</th>\n",
       "      <th>WindSpeed</th>\n",
       "      <th>GeneralDiffuseFlows</th>\n",
       "      <th>DiffuseFlows</th>\n",
       "      <th>Temperature_4</th>\n",
       "      <th>Humidity_4</th>\n",
       "      <th>WindSpeed_4</th>\n",
       "      <th>GeneralDiffuseFlows_4</th>\n",
       "      <th>...</th>\n",
       "      <th>WindSpeed_2</th>\n",
       "      <th>GeneralDiffuseFlows_2</th>\n",
       "      <th>DiffuseFlows_2</th>\n",
       "      <th>SolarPower_2</th>\n",
       "      <th>Temperature_1</th>\n",
       "      <th>Humidity_1</th>\n",
       "      <th>WindSpeed_1</th>\n",
       "      <th>GeneralDiffuseFlows_1</th>\n",
       "      <th>DiffuseFlows_1</th>\n",
       "      <th>SolarPower_1</th>\n",
       "    </tr>\n",
       "    <tr>\n",
       "      <th>Date</th>\n",
       "      <th></th>\n",
       "      <th></th>\n",
       "      <th></th>\n",
       "      <th></th>\n",
       "      <th></th>\n",
       "      <th></th>\n",
       "      <th></th>\n",
       "      <th></th>\n",
       "      <th></th>\n",
       "      <th></th>\n",
       "      <th></th>\n",
       "      <th></th>\n",
       "      <th></th>\n",
       "      <th></th>\n",
       "      <th></th>\n",
       "      <th></th>\n",
       "      <th></th>\n",
       "      <th></th>\n",
       "      <th></th>\n",
       "      <th></th>\n",
       "      <th></th>\n",
       "    </tr>\n",
       "  </thead>\n",
       "  <tbody>\n",
       "    <tr>\n",
       "      <th>2017-01-01 00:00:00</th>\n",
       "      <td>26927.594937</td>\n",
       "      <td>5.866833</td>\n",
       "      <td>76.300000</td>\n",
       "      <td>0.081917</td>\n",
       "      <td>0.060167</td>\n",
       "      <td>0.105667</td>\n",
       "      <td>NaN</td>\n",
       "      <td>NaN</td>\n",
       "      <td>NaN</td>\n",
       "      <td>NaN</td>\n",
       "      <td>...</td>\n",
       "      <td>NaN</td>\n",
       "      <td>NaN</td>\n",
       "      <td>NaN</td>\n",
       "      <td>NaN</td>\n",
       "      <td>NaN</td>\n",
       "      <td>NaN</td>\n",
       "      <td>NaN</td>\n",
       "      <td>NaN</td>\n",
       "      <td>NaN</td>\n",
       "      <td>NaN</td>\n",
       "    </tr>\n",
       "    <tr>\n",
       "      <th>2017-01-01 02:00:00</th>\n",
       "      <td>21447.088607</td>\n",
       "      <td>5.029333</td>\n",
       "      <td>78.008333</td>\n",
       "      <td>0.082583</td>\n",
       "      <td>0.061417</td>\n",
       "      <td>0.135083</td>\n",
       "      <td>NaN</td>\n",
       "      <td>NaN</td>\n",
       "      <td>NaN</td>\n",
       "      <td>NaN</td>\n",
       "      <td>...</td>\n",
       "      <td>NaN</td>\n",
       "      <td>NaN</td>\n",
       "      <td>NaN</td>\n",
       "      <td>NaN</td>\n",
       "      <td>5.866833</td>\n",
       "      <td>76.300000</td>\n",
       "      <td>0.081917</td>\n",
       "      <td>0.060167</td>\n",
       "      <td>0.105667</td>\n",
       "      <td>26927.594937</td>\n",
       "    </tr>\n",
       "    <tr>\n",
       "      <th>2017-01-01 04:00:00</th>\n",
       "      <td>20641.518987</td>\n",
       "      <td>4.919667</td>\n",
       "      <td>74.641667</td>\n",
       "      <td>0.081667</td>\n",
       "      <td>0.061917</td>\n",
       "      <td>0.120833</td>\n",
       "      <td>NaN</td>\n",
       "      <td>NaN</td>\n",
       "      <td>NaN</td>\n",
       "      <td>NaN</td>\n",
       "      <td>...</td>\n",
       "      <td>0.081917</td>\n",
       "      <td>0.060167</td>\n",
       "      <td>0.105667</td>\n",
       "      <td>26927.594937</td>\n",
       "      <td>5.029333</td>\n",
       "      <td>78.008333</td>\n",
       "      <td>0.082583</td>\n",
       "      <td>0.061417</td>\n",
       "      <td>0.135083</td>\n",
       "      <td>21447.088607</td>\n",
       "    </tr>\n",
       "    <tr>\n",
       "      <th>2017-01-01 06:00:00</th>\n",
       "      <td>20094.683545</td>\n",
       "      <td>4.512750</td>\n",
       "      <td>74.575000</td>\n",
       "      <td>0.082417</td>\n",
       "      <td>0.063583</td>\n",
       "      <td>0.122500</td>\n",
       "      <td>NaN</td>\n",
       "      <td>NaN</td>\n",
       "      <td>NaN</td>\n",
       "      <td>NaN</td>\n",
       "      <td>...</td>\n",
       "      <td>0.082583</td>\n",
       "      <td>0.061417</td>\n",
       "      <td>0.135083</td>\n",
       "      <td>21447.088607</td>\n",
       "      <td>4.919667</td>\n",
       "      <td>74.641667</td>\n",
       "      <td>0.081667</td>\n",
       "      <td>0.061917</td>\n",
       "      <td>0.120833</td>\n",
       "      <td>20641.518987</td>\n",
       "    </tr>\n",
       "    <tr>\n",
       "      <th>2017-01-01 08:00:00</th>\n",
       "      <td>21255.189872</td>\n",
       "      <td>4.632167</td>\n",
       "      <td>73.791667</td>\n",
       "      <td>0.082417</td>\n",
       "      <td>79.281917</td>\n",
       "      <td>15.761833</td>\n",
       "      <td>5.866833</td>\n",
       "      <td>76.300000</td>\n",
       "      <td>0.081917</td>\n",
       "      <td>0.060167</td>\n",
       "      <td>...</td>\n",
       "      <td>0.081667</td>\n",
       "      <td>0.061917</td>\n",
       "      <td>0.120833</td>\n",
       "      <td>20641.518987</td>\n",
       "      <td>4.512750</td>\n",
       "      <td>74.575000</td>\n",
       "      <td>0.082417</td>\n",
       "      <td>0.063583</td>\n",
       "      <td>0.122500</td>\n",
       "      <td>20094.683545</td>\n",
       "    </tr>\n",
       "    <tr>\n",
       "      <th>...</th>\n",
       "      <td>...</td>\n",
       "      <td>...</td>\n",
       "      <td>...</td>\n",
       "      <td>...</td>\n",
       "      <td>...</td>\n",
       "      <td>...</td>\n",
       "      <td>...</td>\n",
       "      <td>...</td>\n",
       "      <td>...</td>\n",
       "      <td>...</td>\n",
       "      <td>...</td>\n",
       "      <td>...</td>\n",
       "      <td>...</td>\n",
       "      <td>...</td>\n",
       "      <td>...</td>\n",
       "      <td>...</td>\n",
       "      <td>...</td>\n",
       "      <td>...</td>\n",
       "      <td>...</td>\n",
       "      <td>...</td>\n",
       "      <td>...</td>\n",
       "    </tr>\n",
       "    <tr>\n",
       "      <th>2017-12-30 14:00:00</th>\n",
       "      <td>29293.789606</td>\n",
       "      <td>14.513333</td>\n",
       "      <td>39.675417</td>\n",
       "      <td>0.077667</td>\n",
       "      <td>409.650000</td>\n",
       "      <td>42.163333</td>\n",
       "      <td>11.221667</td>\n",
       "      <td>48.974583</td>\n",
       "      <td>0.078417</td>\n",
       "      <td>0.062917</td>\n",
       "      <td>...</td>\n",
       "      <td>0.077000</td>\n",
       "      <td>353.441667</td>\n",
       "      <td>36.275833</td>\n",
       "      <td>29649.683142</td>\n",
       "      <td>14.399167</td>\n",
       "      <td>38.129167</td>\n",
       "      <td>0.077667</td>\n",
       "      <td>489.841667</td>\n",
       "      <td>38.455000</td>\n",
       "      <td>30490.240812</td>\n",
       "    </tr>\n",
       "    <tr>\n",
       "      <th>2017-12-30 16:00:00</th>\n",
       "      <td>31262.864386</td>\n",
       "      <td>14.015000</td>\n",
       "      <td>43.082500</td>\n",
       "      <td>0.077500</td>\n",
       "      <td>153.905000</td>\n",
       "      <td>152.368333</td>\n",
       "      <td>11.082500</td>\n",
       "      <td>48.224167</td>\n",
       "      <td>0.078083</td>\n",
       "      <td>76.933417</td>\n",
       "      <td>...</td>\n",
       "      <td>0.077667</td>\n",
       "      <td>489.841667</td>\n",
       "      <td>38.455000</td>\n",
       "      <td>30490.240812</td>\n",
       "      <td>14.513333</td>\n",
       "      <td>39.675417</td>\n",
       "      <td>0.077667</td>\n",
       "      <td>409.650000</td>\n",
       "      <td>42.163333</td>\n",
       "      <td>29293.789606</td>\n",
       "    </tr>\n",
       "    <tr>\n",
       "      <th>2017-12-30 18:00:00</th>\n",
       "      <td>37721.673005</td>\n",
       "      <td>10.112500</td>\n",
       "      <td>60.359583</td>\n",
       "      <td>0.075583</td>\n",
       "      <td>1.618917</td>\n",
       "      <td>1.676750</td>\n",
       "      <td>13.382500</td>\n",
       "      <td>43.325000</td>\n",
       "      <td>0.077000</td>\n",
       "      <td>353.441667</td>\n",
       "      <td>...</td>\n",
       "      <td>0.077667</td>\n",
       "      <td>409.650000</td>\n",
       "      <td>42.163333</td>\n",
       "      <td>29293.789606</td>\n",
       "      <td>14.015000</td>\n",
       "      <td>43.082500</td>\n",
       "      <td>0.077500</td>\n",
       "      <td>153.905000</td>\n",
       "      <td>152.368333</td>\n",
       "      <td>31262.864386</td>\n",
       "    </tr>\n",
       "    <tr>\n",
       "      <th>2017-12-30 20:00:00</th>\n",
       "      <td>36183.523447</td>\n",
       "      <td>8.526667</td>\n",
       "      <td>66.832500</td>\n",
       "      <td>0.080917</td>\n",
       "      <td>0.062917</td>\n",
       "      <td>0.101667</td>\n",
       "      <td>14.399167</td>\n",
       "      <td>38.129167</td>\n",
       "      <td>0.077667</td>\n",
       "      <td>489.841667</td>\n",
       "      <td>...</td>\n",
       "      <td>0.077500</td>\n",
       "      <td>153.905000</td>\n",
       "      <td>152.368333</td>\n",
       "      <td>31262.864386</td>\n",
       "      <td>10.112500</td>\n",
       "      <td>60.359583</td>\n",
       "      <td>0.075583</td>\n",
       "      <td>1.618917</td>\n",
       "      <td>1.676750</td>\n",
       "      <td>37721.673005</td>\n",
       "    </tr>\n",
       "    <tr>\n",
       "      <th>2017-12-30 22:00:00</th>\n",
       "      <td>32050.697084</td>\n",
       "      <td>7.237917</td>\n",
       "      <td>71.607500</td>\n",
       "      <td>0.081667</td>\n",
       "      <td>0.060750</td>\n",
       "      <td>0.100417</td>\n",
       "      <td>14.513333</td>\n",
       "      <td>39.675417</td>\n",
       "      <td>0.077667</td>\n",
       "      <td>409.650000</td>\n",
       "      <td>...</td>\n",
       "      <td>0.075583</td>\n",
       "      <td>1.618917</td>\n",
       "      <td>1.676750</td>\n",
       "      <td>37721.673005</td>\n",
       "      <td>8.526667</td>\n",
       "      <td>66.832500</td>\n",
       "      <td>0.080917</td>\n",
       "      <td>0.062917</td>\n",
       "      <td>0.101667</td>\n",
       "      <td>36183.523447</td>\n",
       "    </tr>\n",
       "  </tbody>\n",
       "</table>\n",
       "<p>4368 rows × 30 columns</p>\n",
       "</div>"
      ],
      "text/plain": [
       "                       SolarPower  Temperature   Humidity  WindSpeed  \\\n",
       "Date                                                                   \n",
       "2017-01-01 00:00:00  26927.594937     5.866833  76.300000   0.081917   \n",
       "2017-01-01 02:00:00  21447.088607     5.029333  78.008333   0.082583   \n",
       "2017-01-01 04:00:00  20641.518987     4.919667  74.641667   0.081667   \n",
       "2017-01-01 06:00:00  20094.683545     4.512750  74.575000   0.082417   \n",
       "2017-01-01 08:00:00  21255.189872     4.632167  73.791667   0.082417   \n",
       "...                           ...          ...        ...        ...   \n",
       "2017-12-30 14:00:00  29293.789606    14.513333  39.675417   0.077667   \n",
       "2017-12-30 16:00:00  31262.864386    14.015000  43.082500   0.077500   \n",
       "2017-12-30 18:00:00  37721.673005    10.112500  60.359583   0.075583   \n",
       "2017-12-30 20:00:00  36183.523447     8.526667  66.832500   0.080917   \n",
       "2017-12-30 22:00:00  32050.697084     7.237917  71.607500   0.081667   \n",
       "\n",
       "                     GeneralDiffuseFlows  DiffuseFlows  Temperature_4  \\\n",
       "Date                                                                    \n",
       "2017-01-01 00:00:00             0.060167      0.105667            NaN   \n",
       "2017-01-01 02:00:00             0.061417      0.135083            NaN   \n",
       "2017-01-01 04:00:00             0.061917      0.120833            NaN   \n",
       "2017-01-01 06:00:00             0.063583      0.122500            NaN   \n",
       "2017-01-01 08:00:00            79.281917     15.761833       5.866833   \n",
       "...                                  ...           ...            ...   \n",
       "2017-12-30 14:00:00           409.650000     42.163333      11.221667   \n",
       "2017-12-30 16:00:00           153.905000    152.368333      11.082500   \n",
       "2017-12-30 18:00:00             1.618917      1.676750      13.382500   \n",
       "2017-12-30 20:00:00             0.062917      0.101667      14.399167   \n",
       "2017-12-30 22:00:00             0.060750      0.100417      14.513333   \n",
       "\n",
       "                     Humidity_4  WindSpeed_4  GeneralDiffuseFlows_4  ...  \\\n",
       "Date                                                                 ...   \n",
       "2017-01-01 00:00:00         NaN          NaN                    NaN  ...   \n",
       "2017-01-01 02:00:00         NaN          NaN                    NaN  ...   \n",
       "2017-01-01 04:00:00         NaN          NaN                    NaN  ...   \n",
       "2017-01-01 06:00:00         NaN          NaN                    NaN  ...   \n",
       "2017-01-01 08:00:00   76.300000     0.081917               0.060167  ...   \n",
       "...                         ...          ...                    ...  ...   \n",
       "2017-12-30 14:00:00   48.974583     0.078417               0.062917  ...   \n",
       "2017-12-30 16:00:00   48.224167     0.078083              76.933417  ...   \n",
       "2017-12-30 18:00:00   43.325000     0.077000             353.441667  ...   \n",
       "2017-12-30 20:00:00   38.129167     0.077667             489.841667  ...   \n",
       "2017-12-30 22:00:00   39.675417     0.077667             409.650000  ...   \n",
       "\n",
       "                     WindSpeed_2  GeneralDiffuseFlows_2  DiffuseFlows_2  \\\n",
       "Date                                                                      \n",
       "2017-01-01 00:00:00          NaN                    NaN             NaN   \n",
       "2017-01-01 02:00:00          NaN                    NaN             NaN   \n",
       "2017-01-01 04:00:00     0.081917               0.060167        0.105667   \n",
       "2017-01-01 06:00:00     0.082583               0.061417        0.135083   \n",
       "2017-01-01 08:00:00     0.081667               0.061917        0.120833   \n",
       "...                          ...                    ...             ...   \n",
       "2017-12-30 14:00:00     0.077000             353.441667       36.275833   \n",
       "2017-12-30 16:00:00     0.077667             489.841667       38.455000   \n",
       "2017-12-30 18:00:00     0.077667             409.650000       42.163333   \n",
       "2017-12-30 20:00:00     0.077500             153.905000      152.368333   \n",
       "2017-12-30 22:00:00     0.075583               1.618917        1.676750   \n",
       "\n",
       "                     SolarPower_2  Temperature_1  Humidity_1  WindSpeed_1  \\\n",
       "Date                                                                        \n",
       "2017-01-01 00:00:00           NaN            NaN         NaN          NaN   \n",
       "2017-01-01 02:00:00           NaN       5.866833   76.300000     0.081917   \n",
       "2017-01-01 04:00:00  26927.594937       5.029333   78.008333     0.082583   \n",
       "2017-01-01 06:00:00  21447.088607       4.919667   74.641667     0.081667   \n",
       "2017-01-01 08:00:00  20641.518987       4.512750   74.575000     0.082417   \n",
       "...                           ...            ...         ...          ...   \n",
       "2017-12-30 14:00:00  29649.683142      14.399167   38.129167     0.077667   \n",
       "2017-12-30 16:00:00  30490.240812      14.513333   39.675417     0.077667   \n",
       "2017-12-30 18:00:00  29293.789606      14.015000   43.082500     0.077500   \n",
       "2017-12-30 20:00:00  31262.864386      10.112500   60.359583     0.075583   \n",
       "2017-12-30 22:00:00  37721.673005       8.526667   66.832500     0.080917   \n",
       "\n",
       "                     GeneralDiffuseFlows_1  DiffuseFlows_1  SolarPower_1  \n",
       "Date                                                                      \n",
       "2017-01-01 00:00:00                    NaN             NaN           NaN  \n",
       "2017-01-01 02:00:00               0.060167        0.105667  26927.594937  \n",
       "2017-01-01 04:00:00               0.061417        0.135083  21447.088607  \n",
       "2017-01-01 06:00:00               0.061917        0.120833  20641.518987  \n",
       "2017-01-01 08:00:00               0.063583        0.122500  20094.683545  \n",
       "...                                    ...             ...           ...  \n",
       "2017-12-30 14:00:00             489.841667       38.455000  30490.240812  \n",
       "2017-12-30 16:00:00             409.650000       42.163333  29293.789606  \n",
       "2017-12-30 18:00:00             153.905000      152.368333  31262.864386  \n",
       "2017-12-30 20:00:00               1.618917        1.676750  37721.673005  \n",
       "2017-12-30 22:00:00               0.062917        0.101667  36183.523447  \n",
       "\n",
       "[4368 rows x 30 columns]"
      ]
     },
     "execution_count": 403,
     "metadata": {},
     "output_type": "execute_result"
    }
   ],
   "source": [
    "for lag in lags:\n",
    "    for column in features + [target]:\n",
    "        merged[f\"{column}_{lag}\"] = merged[column].shift(lag)\n",
    "merged"
   ]
  },
  {
   "cell_type": "code",
   "execution_count": 404,
   "id": "6edbbeb9-5d62-4de8-9925-d738b10c01a1",
   "metadata": {},
   "outputs": [],
   "source": [
    "merged.drop(columns=features, inplace=True)"
   ]
  },
  {
   "cell_type": "code",
   "execution_count": 405,
   "id": "ed077c09-f20c-453a-9a53-bab2e5f9882c",
   "metadata": {},
   "outputs": [],
   "source": [
    "merged.dropna(axis=0, inplace=True)"
   ]
  },
  {
   "cell_type": "code",
   "execution_count": 406,
   "id": "b5d470c6-4c9c-42fc-a960-65ddf42113c4",
   "metadata": {},
   "outputs": [
    {
     "data": {
      "text/plain": [
       "SolarPower               0\n",
       "Temperature_4            0\n",
       "Humidity_4               0\n",
       "WindSpeed_4              0\n",
       "GeneralDiffuseFlows_4    0\n",
       "DiffuseFlows_4           0\n",
       "SolarPower_4             0\n",
       "Temperature_3            0\n",
       "Humidity_3               0\n",
       "WindSpeed_3              0\n",
       "GeneralDiffuseFlows_3    0\n",
       "DiffuseFlows_3           0\n",
       "SolarPower_3             0\n",
       "Temperature_2            0\n",
       "Humidity_2               0\n",
       "WindSpeed_2              0\n",
       "GeneralDiffuseFlows_2    0\n",
       "DiffuseFlows_2           0\n",
       "SolarPower_2             0\n",
       "Temperature_1            0\n",
       "Humidity_1               0\n",
       "WindSpeed_1              0\n",
       "GeneralDiffuseFlows_1    0\n",
       "DiffuseFlows_1           0\n",
       "SolarPower_1             0\n",
       "dtype: int64"
      ]
     },
     "execution_count": 406,
     "metadata": {},
     "output_type": "execute_result"
    }
   ],
   "source": [
    "merged.isnull().sum()"
   ]
  },
  {
   "cell_type": "code",
   "execution_count": 407,
   "id": "6d296af5-fc6c-4a71-a7d9-e24e3c6af119",
   "metadata": {},
   "outputs": [],
   "source": [
    "X, y = merged.drop(columns=[target]), merged[target]\n",
    "train_X, test_X, train_y, test_y = train_test_split(X, y, test_size=0.20, shuffle=False)"
   ]
  },
  {
   "cell_type": "code",
   "execution_count": 409,
   "id": "a60babb6-f11c-4e72-807d-ec5db283eb96",
   "metadata": {},
   "outputs": [],
   "source": [
    "scaler = MinMaxScaler()\n",
    "train_X = scaler.fit_transform(train_X)\n",
    "test_X = scaler.transform(test_X)"
   ]
  },
  {
   "cell_type": "code",
   "execution_count": 411,
   "id": "1406473a-7262-4eea-a104-d44da923e0f7",
   "metadata": {},
   "outputs": [
    {
     "data": {
      "text/plain": [
       "(3491, 4, 6)"
      ]
     },
     "execution_count": 411,
     "metadata": {},
     "output_type": "execute_result"
    }
   ],
   "source": [
    "lag = 4\n",
    "(train_X.shape[0], lag, (train_X.shape[1] // lag))"
   ]
  },
  {
   "cell_type": "markdown",
   "id": "7f1da625-2499-40ac-805b-930f4ed4704d",
   "metadata": {},
   "source": [
    "XGBoost Regressor"
   ]
  },
  {
   "cell_type": "code",
   "execution_count": 414,
   "id": "1ba321e3-12e6-4145-af6b-7e02dc76603d",
   "metadata": {},
   "outputs": [],
   "source": [
    "regressor = XGBRegressor(n_estimators=30).fit(train_X, train_y)"
   ]
  },
  {
   "cell_type": "code",
   "execution_count": 415,
   "id": "10ed18c5-aa9b-4a0f-9a01-92acfc41ccd8",
   "metadata": {},
   "outputs": [],
   "source": [
    "pred_y = regressor.predict(test_X)"
   ]
  },
  {
   "cell_type": "code",
   "execution_count": 416,
   "id": "a61605a1-12e5-4fde-b3b5-dd650ea8f967",
   "metadata": {},
   "outputs": [
    {
     "data": {
      "text/plain": [
       "(1378.9127763254105, 3433557.168053115, 0.9039969383913953)"
      ]
     },
     "execution_count": 416,
     "metadata": {},
     "output_type": "execute_result"
    }
   ],
   "source": [
    "from sklearn.metrics import mean_absolute_error, mean_squared_error, r2_score\n",
    "(mean_absolute_error(test_y, pred_y), mean_squared_error(test_y, pred_y), r2_score(test_y, pred_y))"
   ]
  },
  {
   "cell_type": "markdown",
   "id": "ab468a6a-bdda-4de1-83c8-8023f61f3a2c",
   "metadata": {},
   "source": [
    "Neural Network"
   ]
  },
  {
   "cell_type": "code",
   "execution_count": 418,
   "id": "8f420417-e9e2-4da2-936f-705930bb87d0",
   "metadata": {},
   "outputs": [],
   "source": [
    "train_y = scaler.fit_transform(train_y.to_numpy().reshape(-1, 1))"
   ]
  },
  {
   "cell_type": "code",
   "execution_count": 419,
   "id": "70709ca6-8577-4bb4-aa63-5315c99dac7d",
   "metadata": {},
   "outputs": [
    {
     "data": {
      "text/plain": [
       "(3491, 4, 6)"
      ]
     },
     "execution_count": 419,
     "metadata": {},
     "output_type": "execute_result"
    }
   ],
   "source": [
    "lag = 4\n",
    "(train_X.shape[0], lag, (train_X.shape[1] // lag))"
   ]
  },
  {
   "cell_type": "code",
   "execution_count": 420,
   "id": "0738b3f4-988a-41e5-b61a-cd4080a390e8",
   "metadata": {},
   "outputs": [],
   "source": [
    "train_X = train_X.reshape((train_X.shape[0], lag, (train_X.shape[1] // lag)))\n",
    "test_X = test_X.reshape((test_X.shape[0], lag, (test_X.shape[1] // lag)))"
   ]
  },
  {
   "cell_type": "code",
   "execution_count": 421,
   "id": "3fe305d3-14c0-495b-a554-dd345ac9f85e",
   "metadata": {},
   "outputs": [],
   "source": [
    "model = Sequential([\n",
    "    Input((train_X.shape[1], train_X.shape[2],)),\n",
    "    LSTM(64, activation=\"relu\", return_sequences=True),\n",
    "    LSTM(32, activation=\"relu\"),\n",
    "    Dense(1, activation=\"linear\")\n",
    "])"
   ]
  },
  {
   "cell_type": "code",
   "execution_count": 423,
   "id": "f75aebcf-c726-4104-b063-7ea869dfbe17",
   "metadata": {},
   "outputs": [
    {
     "data": {
      "text/html": [
       "<pre style=\"white-space:pre;overflow-x:auto;line-height:normal;font-family:Menlo,'DejaVu Sans Mono',consolas,'Courier New',monospace\"><span style=\"font-weight: bold\">Model: \"sequential_4\"</span>\n",
       "</pre>\n"
      ],
      "text/plain": [
       "\u001b[1mModel: \"sequential_4\"\u001b[0m\n"
      ]
     },
     "metadata": {},
     "output_type": "display_data"
    },
    {
     "data": {
      "text/html": [
       "<pre style=\"white-space:pre;overflow-x:auto;line-height:normal;font-family:Menlo,'DejaVu Sans Mono',consolas,'Courier New',monospace\">┏━━━━━━━━━━━━━━━━━━━━━━━━━━━━━━━━━━━━━━┳━━━━━━━━━━━━━━━━━━━━━━━━━━━━━┳━━━━━━━━━━━━━━━━━┓\n",
       "┃<span style=\"font-weight: bold\"> Layer (type)                         </span>┃<span style=\"font-weight: bold\"> Output Shape                </span>┃<span style=\"font-weight: bold\">         Param # </span>┃\n",
       "┡━━━━━━━━━━━━━━━━━━━━━━━━━━━━━━━━━━━━━━╇━━━━━━━━━━━━━━━━━━━━━━━━━━━━━╇━━━━━━━━━━━━━━━━━┩\n",
       "│ lstm_8 (<span style=\"color: #0087ff; text-decoration-color: #0087ff\">LSTM</span>)                        │ (<span style=\"color: #00d7ff; text-decoration-color: #00d7ff\">None</span>, <span style=\"color: #00af00; text-decoration-color: #00af00\">4</span>, <span style=\"color: #00af00; text-decoration-color: #00af00\">64</span>)               │          <span style=\"color: #00af00; text-decoration-color: #00af00\">18,176</span> │\n",
       "├──────────────────────────────────────┼─────────────────────────────┼─────────────────┤\n",
       "│ lstm_9 (<span style=\"color: #0087ff; text-decoration-color: #0087ff\">LSTM</span>)                        │ (<span style=\"color: #00d7ff; text-decoration-color: #00d7ff\">None</span>, <span style=\"color: #00af00; text-decoration-color: #00af00\">32</span>)                  │          <span style=\"color: #00af00; text-decoration-color: #00af00\">12,416</span> │\n",
       "├──────────────────────────────────────┼─────────────────────────────┼─────────────────┤\n",
       "│ dense_4 (<span style=\"color: #0087ff; text-decoration-color: #0087ff\">Dense</span>)                      │ (<span style=\"color: #00d7ff; text-decoration-color: #00d7ff\">None</span>, <span style=\"color: #00af00; text-decoration-color: #00af00\">1</span>)                   │              <span style=\"color: #00af00; text-decoration-color: #00af00\">33</span> │\n",
       "└──────────────────────────────────────┴─────────────────────────────┴─────────────────┘\n",
       "</pre>\n"
      ],
      "text/plain": [
       "┏━━━━━━━━━━━━━━━━━━━━━━━━━━━━━━━━━━━━━━┳━━━━━━━━━━━━━━━━━━━━━━━━━━━━━┳━━━━━━━━━━━━━━━━━┓\n",
       "┃\u001b[1m \u001b[0m\u001b[1mLayer (type)                        \u001b[0m\u001b[1m \u001b[0m┃\u001b[1m \u001b[0m\u001b[1mOutput Shape               \u001b[0m\u001b[1m \u001b[0m┃\u001b[1m \u001b[0m\u001b[1m        Param #\u001b[0m\u001b[1m \u001b[0m┃\n",
       "┡━━━━━━━━━━━━━━━━━━━━━━━━━━━━━━━━━━━━━━╇━━━━━━━━━━━━━━━━━━━━━━━━━━━━━╇━━━━━━━━━━━━━━━━━┩\n",
       "│ lstm_8 (\u001b[38;5;33mLSTM\u001b[0m)                        │ (\u001b[38;5;45mNone\u001b[0m, \u001b[38;5;34m4\u001b[0m, \u001b[38;5;34m64\u001b[0m)               │          \u001b[38;5;34m18,176\u001b[0m │\n",
       "├──────────────────────────────────────┼─────────────────────────────┼─────────────────┤\n",
       "│ lstm_9 (\u001b[38;5;33mLSTM\u001b[0m)                        │ (\u001b[38;5;45mNone\u001b[0m, \u001b[38;5;34m32\u001b[0m)                  │          \u001b[38;5;34m12,416\u001b[0m │\n",
       "├──────────────────────────────────────┼─────────────────────────────┼─────────────────┤\n",
       "│ dense_4 (\u001b[38;5;33mDense\u001b[0m)                      │ (\u001b[38;5;45mNone\u001b[0m, \u001b[38;5;34m1\u001b[0m)                   │              \u001b[38;5;34m33\u001b[0m │\n",
       "└──────────────────────────────────────┴─────────────────────────────┴─────────────────┘\n"
      ]
     },
     "metadata": {},
     "output_type": "display_data"
    },
    {
     "data": {
      "text/html": [
       "<pre style=\"white-space:pre;overflow-x:auto;line-height:normal;font-family:Menlo,'DejaVu Sans Mono',consolas,'Courier New',monospace\"><span style=\"font-weight: bold\"> Total params: </span><span style=\"color: #00af00; text-decoration-color: #00af00\">30,625</span> (119.63 KB)\n",
       "</pre>\n"
      ],
      "text/plain": [
       "\u001b[1m Total params: \u001b[0m\u001b[38;5;34m30,625\u001b[0m (119.63 KB)\n"
      ]
     },
     "metadata": {},
     "output_type": "display_data"
    },
    {
     "data": {
      "text/html": [
       "<pre style=\"white-space:pre;overflow-x:auto;line-height:normal;font-family:Menlo,'DejaVu Sans Mono',consolas,'Courier New',monospace\"><span style=\"font-weight: bold\"> Trainable params: </span><span style=\"color: #00af00; text-decoration-color: #00af00\">30,625</span> (119.63 KB)\n",
       "</pre>\n"
      ],
      "text/plain": [
       "\u001b[1m Trainable params: \u001b[0m\u001b[38;5;34m30,625\u001b[0m (119.63 KB)\n"
      ]
     },
     "metadata": {},
     "output_type": "display_data"
    },
    {
     "data": {
      "text/html": [
       "<pre style=\"white-space:pre;overflow-x:auto;line-height:normal;font-family:Menlo,'DejaVu Sans Mono',consolas,'Courier New',monospace\"><span style=\"font-weight: bold\"> Non-trainable params: </span><span style=\"color: #00af00; text-decoration-color: #00af00\">0</span> (0.00 B)\n",
       "</pre>\n"
      ],
      "text/plain": [
       "\u001b[1m Non-trainable params: \u001b[0m\u001b[38;5;34m0\u001b[0m (0.00 B)\n"
      ]
     },
     "metadata": {},
     "output_type": "display_data"
    }
   ],
   "source": [
    "model.summary()"
   ]
  },
  {
   "cell_type": "code",
   "execution_count": 424,
   "id": "d8c9cc87-94f6-4512-ba4d-93122c3c090e",
   "metadata": {},
   "outputs": [],
   "source": [
    "model.compile(\n",
    "    loss=\"mean_squared_error\",\n",
    "    optimizer=\"adam\",\n",
    "    metrics=[\"mean_squared_error\"],\n",
    ")"
   ]
  },
  {
   "cell_type": "code",
   "execution_count": 425,
   "id": "48602aaa-8325-414f-ac34-3c178095685a",
   "metadata": {},
   "outputs": [
    {
     "name": "stdout",
     "output_type": "stream",
     "text": [
      "Epoch 1/20\n",
      "\u001b[1m44/44\u001b[0m \u001b[32m━━━━━━━━━━━━━━━━━━━━\u001b[0m\u001b[37m\u001b[0m \u001b[1m5s\u001b[0m 20ms/step - loss: 0.1710 - mean_squared_error: 0.1710 - val_loss: 0.0274 - val_mean_squared_error: 0.0274\n",
      "Epoch 2/20\n",
      "\u001b[1m44/44\u001b[0m \u001b[32m━━━━━━━━━━━━━━━━━━━━\u001b[0m\u001b[37m\u001b[0m \u001b[1m0s\u001b[0m 8ms/step - loss: 0.0275 - mean_squared_error: 0.0275 - val_loss: 0.0183 - val_mean_squared_error: 0.0183\n",
      "Epoch 3/20\n",
      "\u001b[1m44/44\u001b[0m \u001b[32m━━━━━━━━━━━━━━━━━━━━\u001b[0m\u001b[37m\u001b[0m \u001b[1m0s\u001b[0m 8ms/step - loss: 0.0211 - mean_squared_error: 0.0211 - val_loss: 0.0167 - val_mean_squared_error: 0.0167\n",
      "Epoch 4/20\n",
      "\u001b[1m44/44\u001b[0m \u001b[32m━━━━━━━━━━━━━━━━━━━━\u001b[0m\u001b[37m\u001b[0m \u001b[1m0s\u001b[0m 8ms/step - loss: 0.0203 - mean_squared_error: 0.0203 - val_loss: 0.0157 - val_mean_squared_error: 0.0157\n",
      "Epoch 5/20\n",
      "\u001b[1m44/44\u001b[0m \u001b[32m━━━━━━━━━━━━━━━━━━━━\u001b[0m\u001b[37m\u001b[0m \u001b[1m0s\u001b[0m 10ms/step - loss: 0.0193 - mean_squared_error: 0.0193 - val_loss: 0.0147 - val_mean_squared_error: 0.0147\n",
      "Epoch 6/20\n",
      "\u001b[1m44/44\u001b[0m \u001b[32m━━━━━━━━━━━━━━━━━━━━\u001b[0m\u001b[37m\u001b[0m \u001b[1m0s\u001b[0m 7ms/step - loss: 0.0183 - mean_squared_error: 0.0183 - val_loss: 0.0138 - val_mean_squared_error: 0.0138\n",
      "Epoch 7/20\n",
      "\u001b[1m44/44\u001b[0m \u001b[32m━━━━━━━━━━━━━━━━━━━━\u001b[0m\u001b[37m\u001b[0m \u001b[1m0s\u001b[0m 8ms/step - loss: 0.0169 - mean_squared_error: 0.0169 - val_loss: 0.0131 - val_mean_squared_error: 0.0131\n",
      "Epoch 8/20\n",
      "\u001b[1m44/44\u001b[0m \u001b[32m━━━━━━━━━━━━━━━━━━━━\u001b[0m\u001b[37m\u001b[0m \u001b[1m0s\u001b[0m 7ms/step - loss: 0.0155 - mean_squared_error: 0.0155 - val_loss: 0.0124 - val_mean_squared_error: 0.0124\n",
      "Epoch 9/20\n",
      "\u001b[1m44/44\u001b[0m \u001b[32m━━━━━━━━━━━━━━━━━━━━\u001b[0m\u001b[37m\u001b[0m \u001b[1m0s\u001b[0m 8ms/step - loss: 0.0145 - mean_squared_error: 0.0145 - val_loss: 0.0116 - val_mean_squared_error: 0.0116\n",
      "Epoch 10/20\n",
      "\u001b[1m44/44\u001b[0m \u001b[32m━━━━━━━━━━━━━━━━━━━━\u001b[0m\u001b[37m\u001b[0m \u001b[1m0s\u001b[0m 8ms/step - loss: 0.0139 - mean_squared_error: 0.0139 - val_loss: 0.0110 - val_mean_squared_error: 0.0110\n",
      "Epoch 11/20\n",
      "\u001b[1m44/44\u001b[0m \u001b[32m━━━━━━━━━━━━━━━━━━━━\u001b[0m\u001b[37m\u001b[0m \u001b[1m0s\u001b[0m 7ms/step - loss: 0.0132 - mean_squared_error: 0.0132 - val_loss: 0.0098 - val_mean_squared_error: 0.0098\n",
      "Epoch 12/20\n",
      "\u001b[1m44/44\u001b[0m \u001b[32m━━━━━━━━━━━━━━━━━━━━\u001b[0m\u001b[37m\u001b[0m \u001b[1m0s\u001b[0m 8ms/step - loss: 0.0123 - mean_squared_error: 0.0123 - val_loss: 0.0089 - val_mean_squared_error: 0.0089\n",
      "Epoch 13/20\n",
      "\u001b[1m44/44\u001b[0m \u001b[32m━━━━━━━━━━━━━━━━━━━━\u001b[0m\u001b[37m\u001b[0m \u001b[1m0s\u001b[0m 9ms/step - loss: 0.0117 - mean_squared_error: 0.0117 - val_loss: 0.0082 - val_mean_squared_error: 0.0082\n",
      "Epoch 14/20\n",
      "\u001b[1m44/44\u001b[0m \u001b[32m━━━━━━━━━━━━━━━━━━━━\u001b[0m\u001b[37m\u001b[0m \u001b[1m0s\u001b[0m 8ms/step - loss: 0.0112 - mean_squared_error: 0.0112 - val_loss: 0.0078 - val_mean_squared_error: 0.0078\n",
      "Epoch 15/20\n",
      "\u001b[1m44/44\u001b[0m \u001b[32m━━━━━━━━━━━━━━━━━━━━\u001b[0m\u001b[37m\u001b[0m \u001b[1m0s\u001b[0m 10ms/step - loss: 0.0107 - mean_squared_error: 0.0107 - val_loss: 0.0075 - val_mean_squared_error: 0.0075\n",
      "Epoch 16/20\n",
      "\u001b[1m44/44\u001b[0m \u001b[32m━━━━━━━━━━━━━━━━━━━━\u001b[0m\u001b[37m\u001b[0m \u001b[1m0s\u001b[0m 9ms/step - loss: 0.0103 - mean_squared_error: 0.0103 - val_loss: 0.0072 - val_mean_squared_error: 0.0072\n",
      "Epoch 17/20\n",
      "\u001b[1m44/44\u001b[0m \u001b[32m━━━━━━━━━━━━━━━━━━━━\u001b[0m\u001b[37m\u001b[0m \u001b[1m0s\u001b[0m 8ms/step - loss: 0.0099 - mean_squared_error: 0.0099 - val_loss: 0.0070 - val_mean_squared_error: 0.0070\n",
      "Epoch 18/20\n",
      "\u001b[1m44/44\u001b[0m \u001b[32m━━━━━━━━━━━━━━━━━━━━\u001b[0m\u001b[37m\u001b[0m \u001b[1m0s\u001b[0m 9ms/step - loss: 0.0096 - mean_squared_error: 0.0096 - val_loss: 0.0069 - val_mean_squared_error: 0.0069\n",
      "Epoch 19/20\n",
      "\u001b[1m44/44\u001b[0m \u001b[32m━━━━━━━━━━━━━━━━━━━━\u001b[0m\u001b[37m\u001b[0m \u001b[1m0s\u001b[0m 9ms/step - loss: 0.0093 - mean_squared_error: 0.0093 - val_loss: 0.0068 - val_mean_squared_error: 0.0068\n",
      "Epoch 20/20\n",
      "\u001b[1m44/44\u001b[0m \u001b[32m━━━━━━━━━━━━━━━━━━━━\u001b[0m\u001b[37m\u001b[0m \u001b[1m0s\u001b[0m 8ms/step - loss: 0.0090 - mean_squared_error: 0.0090 - val_loss: 0.0067 - val_mean_squared_error: 0.0067\n"
     ]
    }
   ],
   "source": [
    "history = model.fit(train_X, train_y, validation_split=0.20, epochs=20, batch_size=64, shuffle=False)"
   ]
  },
  {
   "cell_type": "code",
   "execution_count": 426,
   "id": "0281f6c5-d721-4c1d-be8b-4f2f8688e709",
   "metadata": {},
   "outputs": [
    {
     "data": {
      "text/plain": [
       "<Axes: >"
      ]
     },
     "execution_count": 426,
     "metadata": {},
     "output_type": "execute_result"
    },
    {
     "data": {
      "image/png": "[encoded data removed]",
      "text/plain": [
       "<Figure size 640x480 with 1 Axes>"
      ]
     },
     "metadata": {},
     "output_type": "display_data"
    }
   ],
   "source": [
    "sns.lineplot(history.history[\"loss\"], label=\"loss\")\n",
    "sns.lineplot(history.history[\"val_loss\"], label=\"val_loss\")"
   ]
  },
  {
   "cell_type": "code",
   "execution_count": 427,
   "id": "43171a03-a285-4543-93bb-e9e4ee063ee7",
   "metadata": {},
   "outputs": [
    {
     "name": "stdout",
     "output_type": "stream",
     "text": [
      "\u001b[1m28/28\u001b[0m \u001b[32m━━━━━━━━━━━━━━━━━━━━\u001b[0m\u001b[37m\u001b[0m \u001b[1m1s\u001b[0m 16ms/step\n"
     ]
    }
   ],
   "source": [
    "pred_y = model.predict(test_X)"
   ]
  },
  {
   "cell_type": "code",
   "execution_count": 428,
   "id": "62296b98-8458-43c2-8dd9-9c2c97c5c5ca",
   "metadata": {},
   "outputs": [],
   "source": [
    "pred_y = scaler.inverse_transform(pred_y)"
   ]
  },
  {
   "cell_type": "code",
   "execution_count": 429,
   "id": "f23c2cd2-d454-44a0-b34e-5f4422d19abe",
   "metadata": {},
   "outputs": [
    {
     "data": {
      "text/plain": [
       "(2887.987641036417, 12712715.642272923, 0.6445494968386325)"
      ]
     },
     "execution_count": 429,
     "metadata": {},
     "output_type": "execute_result"
    }
   ],
   "source": [
    "from sklearn.metrics import mean_absolute_error, mean_squared_error, r2_score\n",
    "(mean_absolute_error(test_y, pred_y), mean_squared_error(test_y, pred_y), r2_score(test_y, pred_y))"
   ]
  },
  {
   "cell_type": "code",
   "execution_count": null,
   "id": "529d68c2-cc07-43cd-ae3f-b8f019aaeada",
   "metadata": {},
   "outputs": [],
   "source": []
  },
  {
   "cell_type": "code",
   "execution_count": null,
   "id": "cacc31f6-ef6f-41f2-954e-37e552fe117d",
   "metadata": {},
   "outputs": [],
   "source": []
  }
 ],
 "metadata": {
  "kernelspec": {
   "display_name": "Python 3 (ipykernel)",
   "language": "python",
   "name": "python3"
  },
  "language_info": {
   "codemirror_mode": {
    "name": "ipython",
    "version": 3
   },
   "file_extension": ".py",
   "mimetype": "text/x-python",
   "name": "python",
   "nbconvert_exporter": "python",
   "pygments_lexer": "ipython3",
   "version": "3.12.4"
  }
 },
 "nbformat": 4,
 "nbformat_minor": 5
}
